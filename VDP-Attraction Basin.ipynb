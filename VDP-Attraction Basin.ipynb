{
 "cells": [
  {
   "cell_type": "markdown",
   "metadata": {},
   "source": [
    "These are systems with a contact Hamiltonian of the form\n",
    "$$\n",
    "H = ps + f(q)s + F(q, t)\n",
    "$$\n",
    "\n",
    "We will focus in particular on the Van der Pol oscillator\n",
    "where $f(q) = - \\epsilon (1-q^2)$ and $F(q) = q - \\phi(t)$."
   ]
  },
  {
   "cell_type": "code",
   "execution_count": 2,
   "metadata": {},
   "outputs": [],
   "source": [
    "from integrators import contact as ic\n",
    "from integrators.common import rk4\n",
    "from lienard import integrator as li\n",
    "from lienard import models as lm\n",
    "\n",
    "def step6(system, dt, p, q, s, t, a=ic.a_six, stepper=li.step1):\n",
    "    return ic.step6(system, dt, p, q, s, t, a=a, stepper=stepper)\n",
    "\n",
    "def step6e(system, dt, p, q, s, t, a=ic.e_six, stepper=li.step1):\n",
    "    return ic.step6(system, dt, p, q, s, t, a=a, stepper=stepper)\n",
    "\n",
    "Lienard = lm.Lienard\n",
    "VanDerPol = lm.VanDerPol\n",
    "FritzhughNagumo = lm.FritzhughNagumo"
   ]
  },
  {
   "cell_type": "code",
   "execution_count": 3,
   "metadata": {},
   "outputs": [],
   "source": [
    "import numpy as np\n",
    "import matplotlib.pyplot as plt\n",
    "from scipy import integrate as si\n",
    "from mpl_toolkits import mplot3d\n",
    "import progressbar"
   ]
  },
  {
   "cell_type": "code",
   "execution_count": 4,
   "metadata": {},
   "outputs": [],
   "source": [
    "def err(x, y):\n",
    "    errv = np.empty(len(x))\n",
    "    for i in range(len(x)):\n",
    "        errv[i] = max(errv[i-1] if i > 0 else 0, np.abs(x[i]-y[i]))\n",
    "    return errv\n",
    "\n",
    "def omega(t,e):\n",
    "    o=((1 - e**2/16. + (17*e**4)/3072. + t**2/24. + (27*e**2*t**2)/128. +\n",
    "    (781*e**4*t**2)/73728. + (3*t**4)/640. + (149*e**2*t**4)/2048. -\n",
    "    (339041*e**4*t**4)/3.538944e6 + (5*t**6)/7168. + (559*e**2*t**6)/16384. +\n",
    "    (4695149*e**4*t**6)/8.4934656e7))/(2*np.pi)\n",
    "    return o"
   ]
  },
  {
   "cell_type": "markdown",
   "metadata": {},
   "source": [
    "## Attraction Basin"
   ]
  },
  {
   "cell_type": "code",
   "execution_count": null,
   "metadata": {},
   "outputs": [],
   "source": [
    "epsilon=50.\n",
    "xmin, xmax = -10.,10.\n",
    "ymin, ymax = -100.,100.\n",
    "gridsize = 0.1\n",
    "delta=1e-5\n",
    "gridx=np.arange(xmin,xmax,gridsize)\n",
    "gridy=np.arange(ymin,ymax,gridsize)\n",
    "nx,ny=len(gridx),len(gridy)\n",
    "color=np.zeros((nx,ny))\n",
    "test=True\n",
    "vdp=VanDerPol(epsilon, 0, 0)\n",
    "p0=0\n",
    "tspan1=np.arange(0.,8.,0.01) #short integration for the limit cycle\n",
    "tspan=np.arange(0.,100.,0.01) #long integration for the graphics\n",
    "\n",
    "#limitcycle\n",
    "p0, q0, s0 = 0, 2, 0\n",
    "cicl,cicls,_= ic.integrate(li.step1, vdp, tspan1, p0, q0, s0)\n",
    "equi=np.array([[0,0]])\n",
    "with progressbar.ProgressBar(max_value=nx*ny) as bar:\n",
    "    s=0\n",
    "    for i in range(nx):\n",
    "        for j in range(ny):\n",
    "            s+=1\n",
    "            bar.update(s)\n",
    "            q0,s0=gridx[i],gridy[j]\n",
    "            sol, sols, _ = ic.integrate(li.step1, vdp, tspan, p0, q0, s0)\n",
    "            finpt=np.array([sol[len(tspan)-1,1],sols[len(tspan)-1]])\n",
    "            for t in range(len(tspan1)):\n",
    "                if test and np.linalg.norm(finpt-np.array([cicl[t,1],cicls[t]]))<delta:\n",
    "                    color[i,j]=-1\n",
    "                    test=False\n",
    "            for t in range(len(equi)):\n",
    "                if test:\n",
    "                    if np.linalg.norm(finpt-equi[t])<delta:\n",
    "                        color[i,j]=t\n",
    "                        test=False\n",
    "            if test:\n",
    "                equi=np.vstack([equi,finpt])\n",
    "                color[i,j]=len(equi)-1\n",
    "\n",
    "plt.figure(figsize=(30,30))\n",
    "plt.imshow(color, cmap=plt.cm.BuPu_r)\n",
    "plt.show()"
   ]
  },
  {
   "cell_type": "code",
   "execution_count": null,
   "metadata": {},
   "outputs": [],
   "source": []
  }
 ],
 "metadata": {
  "kernelspec": {
   "display_name": "Python 3",
   "language": "python",
   "name": "python3"
  },
  "language_info": {
   "codemirror_mode": {
    "name": "ipython",
    "version": 3
   },
   "file_extension": ".py",
   "mimetype": "text/x-python",
   "name": "python",
   "nbconvert_exporter": "python",
   "pygments_lexer": "ipython3",
   "version": "3.7.7"
  }
 },
 "nbformat": 4,
 "nbformat_minor": 4
}
