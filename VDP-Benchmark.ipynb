{
 "cells": [
  {
   "cell_type": "code",
   "execution_count": 1,
   "id": "capital-signature",
   "metadata": {},
   "outputs": [],
   "source": [
    "from integrators import contact as ic\n",
    "from integrators.lagrangian import forced_lagrangian\n",
    "\n",
    "from lienard import integrator as li\n",
    "from lienard import models as lm\n",
    "\n",
    "\n",
    "Lienard = lm.Lienard\n",
    "VanDerPol = lm.VanDerPol"
   ]
  },
  {
   "cell_type": "code",
   "execution_count": 12,
   "id": "driving-turkish",
   "metadata": {},
   "outputs": [],
   "source": [
    "def step6(system, dt, p, q, s, t, a=ic.a_six, stepper=li.step1):\n",
    "    return ic.step6(system, dt, p, q, s, t, a=a, stepper=stepper)"
   ]
  },
  {
   "cell_type": "code",
   "execution_count": 2,
   "id": "dying-bread",
   "metadata": {},
   "outputs": [],
   "source": [
    "import numpy as np\n",
    "import matplotlib.pyplot as plt\n",
    "from scipy import integrate as si\n",
    "\n",
    "plt.style.use(\"fast\")  # alt: 'seaborn-white'\n",
    "\n",
    "# plt.rcParams.update({'font.size': 20, 'font.family': 'serif', 'font.weight':'normal'})\n",
    "plt.rcParams[\"font.size\"] = 16\n",
    "plt.rcParams[\"font.family\"] = \"serif\"\n",
    "plt.rcParams[\"axes.labelsize\"] = 26\n",
    "plt.rcParams[\"xtick.labelsize\"] = 12\n",
    "plt.rcParams[\"xtick.direction\"] = \"in\"\n",
    "plt.rcParams[\"xtick.bottom\"] = True\n",
    "plt.rcParams[\"xtick.major.size\"] = 5\n",
    "plt.rcParams[\"ytick.labelsize\"] = 12\n",
    "plt.rcParams[\"ytick.direction\"] = \"in\"\n",
    "plt.rcParams[\"ytick.left\"] = True\n",
    "plt.rcParams[\"ytick.major.size\"] = 5\n",
    "plt.rcParams[\"legend.fontsize\"] = 16\n",
    "plt.rcParams[\"mathtext.fontset\"] = \"cm\"\n",
    "plt.rcParams[\"savefig.bbox\"] = \"tight\""
   ]
  },
  {
   "cell_type": "code",
   "execution_count": 3,
   "id": "rotary-replica",
   "metadata": {},
   "outputs": [],
   "source": [
    "epsilon = 3.5\n",
    "vdp = VanDerPol(epsilon, 0, 0)\n",
    "vdpl = lm.VanDerPolLag(epsilon, 0, 0)"
   ]
  },
  {
   "cell_type": "code",
   "execution_count": 14,
   "id": "sized-litigation",
   "metadata": {},
   "outputs": [],
   "source": [
    "tf = 1000\n",
    "p0, q0, s0 = 0, 2, 0\n",
    "tspan = np.arange(0, tf, 0.02)"
   ]
  },
  {
   "cell_type": "code",
   "execution_count": 6,
   "id": "proprietary-monday",
   "metadata": {},
   "outputs": [
    {
     "name": "stdout",
     "output_type": "stream",
     "text": [
      "729 ms ± 13.2 ms per loop (mean ± std. dev. of 10 runs, 1 loop each)\n"
     ]
    }
   ],
   "source": [
    "%%timeit -r 10\n",
    "sol, sols, _ = ic.integrate(li.step1, vdp, tspan, p0, q0, s0)"
   ]
  },
  {
   "cell_type": "code",
   "execution_count": 7,
   "id": "moving-studio",
   "metadata": {},
   "outputs": [
    {
     "name": "stdout",
     "output_type": "stream",
     "text": [
      "8.63 s ± 149 ms per loop (mean ± std. dev. of 10 runs, 1 loop each)\n"
     ]
    }
   ],
   "source": [
    "%%timeit -r 10\n",
    "soll, _ = forced_lagrangian(vdpl, tspan, s0, q0)"
   ]
  },
  {
   "cell_type": "code",
   "execution_count": 15,
   "id": "unlimited-carol",
   "metadata": {},
   "outputs": [
    {
     "name": "stdout",
     "output_type": "stream",
     "text": [
      "3.94 s ± 65.9 ms per loop (mean ± std. dev. of 10 runs, 1 loop each)\n"
     ]
    }
   ],
   "source": [
    "%%timeit -r 10\n",
    "solm, solms, _ = ic.integrate(step6, vdp, tspan, p0, q0, s0)"
   ]
  },
  {
   "cell_type": "code",
   "execution_count": 8,
   "id": "cardiac-prince",
   "metadata": {},
   "outputs": [],
   "source": [
    "tf = 1000\n",
    "p0, q0, s0 = 0, 2, 0\n",
    "tspan = np.arange(0, tf, 0.2)"
   ]
  },
  {
   "cell_type": "code",
   "execution_count": 9,
   "id": "starting-monte",
   "metadata": {},
   "outputs": [
    {
     "name": "stdout",
     "output_type": "stream",
     "text": [
      "74.5 ms ± 1.36 ms per loop (mean ± std. dev. of 10 runs, 10 loops each)\n"
     ]
    }
   ],
   "source": [
    "%%timeit -r 10\n",
    "sol, sols, _ = ic.integrate(li.step1, vdp, tspan, p0, q0, s0)"
   ]
  },
  {
   "cell_type": "code",
   "execution_count": 10,
   "id": "initial-feedback",
   "metadata": {},
   "outputs": [
    {
     "name": "stdout",
     "output_type": "stream",
     "text": [
      "972 ms ± 15.2 ms per loop (mean ± std. dev. of 10 runs, 1 loop each)\n"
     ]
    }
   ],
   "source": [
    "%%timeit -r 10\n",
    "soll, _ = forced_lagrangian(vdpl, tspan, s0, q0)"
   ]
  },
  {
   "cell_type": "code",
   "execution_count": 13,
   "id": "animated-syntax",
   "metadata": {},
   "outputs": [
    {
     "name": "stdout",
     "output_type": "stream",
     "text": [
      "404 ms ± 14.6 ms per loop (mean ± std. dev. of 10 runs, 1 loop each)\n"
     ]
    }
   ],
   "source": [
    "%%timeit -r 10\n",
    "solm, solms, _ = ic.integrate(step6, vdp, tspan, p0, q0, s0)"
   ]
  },
  {
   "cell_type": "code",
   "execution_count": null,
   "id": "other-employment",
   "metadata": {},
   "outputs": [],
   "source": []
  }
 ],
 "metadata": {
  "kernelspec": {
   "display_name": "Python 3.9.5 64-bit",
   "language": "python",
   "name": "python39564bit27aa8b0f847c46dba9c916dec101713c"
  },
  "language_info": {
   "codemirror_mode": {
    "name": "ipython",
    "version": 3
   },
   "file_extension": ".py",
   "mimetype": "text/x-python",
   "name": "python",
   "nbconvert_exporter": "python",
   "pygments_lexer": "ipython3",
   "version": "3.9.6"
  }
 },
 "nbformat": 4,
 "nbformat_minor": 5
}
